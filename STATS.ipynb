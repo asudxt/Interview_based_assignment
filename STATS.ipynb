{
 "cells": [
  {
   "cell_type": "markdown",
   "id": "1310835e-9c1b-4f62-ac97-1a2113b38b2f",
   "metadata": {},
   "source": [
    "Q-1. A university wants to understand the relationship between the SAT scores of its\n",
    "applicants and their college GPA. They collect data on 500 students, including their SAT\n",
    "scores (out of 1600) and their college GPA (on a 4.0 scale). They find that the correlation\n",
    "coefficient between SAT scores and college GPA is 0.7. What does this correlation\n",
    "coefficient indicate about the relationship between SAT scores and college GPA?"
   ]
  },
  {
   "cell_type": "markdown",
   "id": "32a151d1-0215-4b73-8703-fe02ad8168bf",
   "metadata": {
    "jupyter": {
     "source_hidden": true
    },
    "tags": []
   },
   "source": [
    "A correlation coefficient of 0.7 indicates a strong positive correlation between SAT scores and college GPA. Here's what this correlation coefficient indicates about the relationship between SAT scores and college GPA:\n",
    "\n",
    "Magnitude of the correlation coefficient:\n",
    "The correlation coefficient ranges from -1 to +1, with 0 indicating no correlation, -1 indicating a perfect negative correlation, and +1 indicating a perfect positive correlation. In this case, a correlation coefficient of 0.7 indicates a relatively strong positive correlation.\n",
    "\n",
    "Direction of the correlation:\n",
    "Since the correlation coefficient is positive (0.7), it suggests that as SAT scores increase, college GPA tends to increase as well. In other words, there is a tendency for students with higher SAT scores to have higher college GPAs.\n",
    "\n",
    "Strength of the correlation:\n",
    "The magnitude of 0.7 indicates a relatively strong correlation between SAT scores and college GPA. This means that the relationship between the two variables is fairly consistent and can be considered reliable.\n",
    "\n",
    "Interpretation:\n",
    "Based on the correlation coefficient of 0.7, we can infer that there is a strong positive relationship between SAT scores and college GPA. Higher SAT scores are generally associated with higher college GPAs, indicating that SAT performance may be a good predictor of academic success in college."
   ]
  },
  {
   "cell_type": "markdown",
   "id": "6005b205-56a5-45f2-ac0c-5484f756d842",
   "metadata": {},
   "source": [
    "Q-2. Consider a dataset containing the heights (in centimeters) of 1000 individuals. The\n",
    "mean height is 170 cm with a standard deviation of 10 cm. The dataset is approximately\n",
    "normally distributed, and its skewness is approximately zero. Based on this information,\n",
    "answer the following questions:\n",
    "a. What percentage of individuals in the dataset have heights between 160 cm\n",
    "and 180 cm?\n",
    "b. If we randomly select 100 individuals from the dataset, what is the probability\n",
    "that their average height is greater than 175 cm?\n",
    "c. Assuming the dataset follows a normal distribution, what is the z-score\n",
    "corresponding to a height of 185 cm?\n",
    "d. We know that 5% of the dataset has heights below a certain value. What is\n",
    "the approximate height corresponding to this threshold?\n",
    "e. Calculate the coefficient of variation (CV) for the dataset.\n",
    "f. Calculate the skewness of the dataset and interpret the result."
   ]
  },
  {
   "cell_type": "markdown",
   "id": "cf4e67c2-7bee-4206-a6f2-4d6714d40709",
   "metadata": {},
   "source": [
    "SOLUTION  a. To calculate the percentage of individuals with heights between 160 cm and 180 cm, we need to find the area under the normal distribution curve between these two values. We can do this by finding the Z-scores corresponding to these heights and using a standard normal distribution table or a statistical software to find the probabilities associated with these Z-scores. The formula to convert a height (X) to a Z-score (Z) is: Z = (X - μ) / σ.\n",
    "\n",
    "Let's calculate the Z-scores for the heights:\n",
    "\n",
    "Z1 = (160 - 170) / 10 = -1\n",
    "Z2 = (180 - 170) / 10 = 1\n",
    "\n",
    "Using a standard normal distribution table, we can find the corresponding probabilities:\n",
    "P(Z < -1) = 0.1587 (probability below Z = -1)\n",
    "P(Z < 1) = 0.8413 (probability below Z = 1)\n",
    "\n",
    "To find the percentage between 160 cm and 180 cm, we subtract the lower probability from the higher probability and multiply by 100:\n",
    "Percentage = (0.8413 - 0.1587) * 100 = 68.26%\n",
    "\n",
    "Therefore, approximately 68.26% of individuals in the dataset have heights between 160 cm and 180 cm.\n",
    "\n",
    "b. To calculate the probability of randomly selecting 100 individuals and their average height being greater than 175 cm, we can use the Central Limit Theorem. The theorem states that the sampling distribution of the sample mean approaches a normal distribution with a mean equal to the population mean and a standard deviation equal to the population standard deviation divided by the square root of the sample size.\n",
    "\n",
    "In this case, we have the population mean (μ = 170 cm), population standard deviation (σ = 10 cm), and a sample size of 100. We need to calculate the Z-score for a sample mean of 175 cm and find the corresponding probability using a standard normal distribution table or statistical software.\n",
    "\n",
    "The formula to calculate the Z-score for the sample mean is:\n",
    "Z = (X̄ - μ) / (σ / √n)\n",
    "\n",
    "Where X̄ is the sample mean, μ is the population mean, σ is the population standard deviation, and n is the sample size.\n",
    "\n",
    "Z = (175 - 170) / (10 / √100) = 5 / 1 = 5\n",
    "\n",
    "Using a standard normal distribution table, we can find the probability of Z > 5, which is a very small value.\n",
    "\n",
    "c. To find the Z-score corresponding to a height of 185 cm, we use the formula: Z = (X - μ) / σ, where X is the height, μ is the mean (170 cm), and σ is the standard deviation (10 cm).\n",
    "\n",
    "Z = (185 - 170) / 10 = 15 / 10 = 1.5\n",
    "\n",
    "Therefore, the Z-score corresponding to a height of 185 cm is 1.5.\n",
    "\n",
    "d. To find the approximate height corresponding to the threshold of 5% of the dataset, we can use the Z-score table or inverse normal distribution function to find the Z-score corresponding to a cumulative probability of 0.05. Then, using the formula X = Z * σ + μ, where X is the height, Z is the Z-score, σ is the standard deviation (10 cm), and μ is the mean (170 cm), we can calculate the approximate height.\n",
    "\n",
    "Let's find the Z-score corresponding to a cumulative probability of 0.05:\n",
    "Z = -1.645 (approximately)\n",
    "\n",
    "Using the formula, we can calculate the approximate height:\n",
    "X = Z * σ + μ\n",
    "X = -1.645 * 10 + 170 = -16.45 + 170 = 153.55\n",
    "\n",
    "Therefore, the approximate height corresponding to the threshold of 5% of the dataset is 153.55 cm.\n",
    "\n",
    "e. The coefficient of variation (CV) is calculated as the ratio of the standard deviation to the mean, expressed as a percentage. In this case, CV = (σ / μ) * 100, where σ is the standard deviation (10 cm) and μ is the mean (170 cm).\n",
    "\n",
    "CV = (10 / 170) * 100 ≈ 5.88%\n",
    "\n",
    "Therefore, the coefficient of variation for the dataset is approximately 5.88%.\n",
    "\n",
    "f. Skewness measures the asymmetry of a distribution. In this case, it is mentioned that the skewness is approximately zero, indicating that the dataset is normally distributed or symmetrical. A skewness value of zero suggests that the dataset's distribution is balanced, with no significant skew to the left or right."
   ]
  },
  {
   "cell_type": "code",
   "execution_count": null,
   "id": "1ad3abdf-0be1-464f-942d-5b44ae34b72c",
   "metadata": {},
   "outputs": [],
   "source": [
    "Q-3. Consider the ‘Blood Pressure Before’ and ‘Blood Pressure After’ columns from the\n",
    "data and calculate the following\n",
    "\n",
    "https://drive.google.com/file/d/1mCjtYHiX--mMUjicuaP2gH3k-SnFxt8Y/view?usp=share_\n",
    "a. Measure the dispersion in both and interpret the results.\n",
    "b. Calculate mean and 5% confidence interval and plot it in a graph\n",
    "c. Calculate the Mean absolute deviation and Standard deviation and interpret\n",
    "the results.\n",
    "d. Calculate the correlation coefficient and check the significance of it at 1% level\n",
    "of significance."
   ]
  },
  {
   "cell_type": "code",
   "execution_count": null,
   "id": "51787d3e-9a78-44f3-8257-9561a32e1228",
   "metadata": {},
   "outputs": [],
   "source": [
    "a. Measure the dispersion:\n",
    "\n",
    "Calculate the range: Range = Maximum value - Minimum value\n",
    "Calculate the variance: Variance = Sum of squared differences from the mean divided by the sample size\n",
    "Calculate the standard deviation: Standard Deviation = Square root of the variance\n",
    "\n",
    "b. Calculate mean and 5% confidence interval and plot the graph:\n",
    "\n",
    "Calculate the sample mean: Mean = Sum of all values divided by the sample size\n",
    "Calculate the standard error: Standard Error = Standard Deviation divided by the square root of the sample size\n",
    "Calculate the confidence interval: CI = Mean ± (t * SE), where t is the critical value from the t-distribution based on the desired confidence level and sample size\n",
    "Use a plotting library such as Matplotlib to plot the mean and confidence interval on a graph."
   ]
  },
  {
   "cell_type": "code",
   "execution_count": null,
   "id": "e1b6468c-e69c-4d34-a3c3-2d04fa16f174",
   "metadata": {},
   "outputs": [],
   "source": [
    "import pandas as pd\n",
    "import matplotlib.pyplot as plt\n",
    "import scipy.stats as stats\n",
    "\n",
    "# Read the data from the provided file\n",
    "df = pd.read_excel('https://drive.google.com/file/d/1mCjtYHiX--mMUjicuaP2gH3k-SnFxt8Y/view?usp=share')\n",
    "\n",
    "# Calculate dispersion\n",
    "before_dispersion = df['Blood Pressure Before'].max() - df['Blood Pressure Before'].min()\n",
    "after_dispersion = df['Blood Pressure After'].max() - df['Blood Pressure After'].min()\n",
    "\n",
    "# Calculate mean and confidence interval\n",
    "mean = df['Blood Pressure Before'].mean()\n",
    "std_dev = df['Blood Pressure Before'].std()\n",
    "sample_size = len(df['Blood Pressure Before'])\n",
    "confidence_level = 0.05  # 5% confidence level\n",
    "t_value = stats.t.ppf(1 - confidence_level/2, df=sample_size-1)\n",
    "standard_error = std_dev / (sample_size ** 0.5)\n",
    "confidence_interval = (mean - t_value * standard_error, mean + t_value * standard_error)\n",
    "\n",
    "# Plot the graph\n",
    "plt.figure()\n",
    "plt.plot(df.index, df['Blood Pressure Before'], label='Blood Pressure Before')\n",
    "plt.axhline(mean, color='r', linestyle='--', label='Mean')\n",
    "plt.axhline(confidence_interval[0], color='g', linestyle='--', label='Lower CI')\n",
    "plt.axhline(confidence_interval[1], color='g', linestyle='--', label='Upper CI')\n",
    "plt.legend()\n",
    "plt.xlabel('Observations')\n",
    "plt.ylabel('Blood Pressure')\n",
    "plt.title('Mean and Confidence Interval')\n",
    "plt.show()"
   ]
  },
  {
   "cell_type": "code",
   "execution_count": null,
   "id": "e7b0f430-3745-4f1d-8fe0-6dec1ee61ed7",
   "metadata": {},
   "outputs": [],
   "source": [
    "Q-4. A group of 20 friends decide to play a game in which they each write a number\n",
    "between 1 and 20 on a slip of paper and put it into a hat. They then draw one slip of paper\n",
    "at random. What is the probability that the number on the slip of paper is a perfect square\n",
    "(i.e., 1, 4, 9, or 16)?"
   ]
  },
  {
   "cell_type": "markdown",
   "id": "6858efa2-4753-4b8d-ab02-fab98467f2d4",
   "metadata": {},
   "source": [
    "To calculate the probability of drawing a perfect square number from the hat, we need to determine the total number of favorable outcomes (perfect square numbers) and the total number of possible outcomes (all numbers from 1 to 20).\n",
    "\n",
    "Total number of possible outcomes: 20 (since there are 20 slips of paper in the hat)\n",
    "\n",
    "Total number of favorable outcomes (perfect square numbers): 4 (1, 4, 9, and 16)\n",
    "\n",
    "Probability = Number of favorable outcomes / Total number of possible outcomes\n",
    "\n",
    "Probability = 4 / 20\n",
    "\n",
    "Simplifying the fraction, we get:\n",
    "\n",
    "Probability = 1 / 5\n",
    "\n",
    "Therefore, the probability of drawing a perfect square number from the hat is 1/5 or 0.2 (20%)."
   ]
  },
  {
   "cell_type": "markdown",
   "id": "fad23a9e-b763-4170-a57c-ff35991b6379",
   "metadata": {},
   "source": [
    "Q-5. A certain city has two taxi companies: Company A has 80% of the taxis and\n",
    "Company B has 20% of the taxis. Company A's taxis have a 95% success rate for picking\n",
    "up passengers on time, while Company B's taxis have a 90% success rate. If a randomly\n",
    "selected taxi is late, what is the probability that it belongs to Company A?"
   ]
  },
  {
   "cell_type": "markdown",
   "id": "e3096a93-cc14-4ba8-815a-663143150e7f",
   "metadata": {},
   "source": [
    "To calculate the probability that a randomly selected late taxi belongs to Company A, we can use Bayes' theorem.\n",
    "\n",
    "Let's define the following events:\n",
    "A: The taxi belongs to Company A.\n",
    "B: The taxi is late.\n",
    "\n",
    "We are given:\n",
    "P(A) = 0.8 (Company A has 80% of the taxis)\n",
    "P(B|A) = 0.05 (Company A's taxis have a 95% success rate, so the probability of a taxi being late given that it belongs to Company A is 1 - 0.95 = 0.05)\n",
    "P(B|B) = 0.1 (Company B's taxis have a 90% success rate, so the probability of a taxi being late given that it belongs to Company B is 1 - 0.9 = 0.1)\n",
    "\n",
    "We want to calculate:\n",
    "P(A|B) = Probability that the taxi belongs to Company A given that it is late.\n",
    "\n",
    "According to Bayes' theorem:\n",
    "P(A|B) = (P(B|A) * P(A)) / P(B)\n",
    "\n",
    "We can calculate P(B) using the law of total probability:\n",
    "P(B) = P(B|A) * P(A) + P(B|B) * P(B)\n",
    "\n",
    "Substituting the given values into the equations, we can find the desired probability:\n",
    "\n",
    "P(B) = (0.05 * 0.8) + (0.1 * 0.2) = 0.04 + 0.02 = 0.06\n",
    "\n",
    "P(A|B) = (0.05 * 0.8) / 0.06 = 0.04 / 0.06 = 2/3\n",
    "\n",
    "Therefore, the probability that a randomly selected late taxi belongs to Company A is 2/3 or approximately 0.67 (67%)."
   ]
  },
  {
   "cell_type": "code",
   "execution_count": null,
   "id": "e2f48216-2a92-4b8e-9b4e-2808c798e365",
   "metadata": {},
   "outputs": [],
   "source": [
    "Q-6. A pharmaceutical company is developing a drug that is supposed to reduce blood\n",
    "pressure. They conduct a clinical trial with 100 patients and record their blood\n",
    "pressure before and after taking the drug. The company wants to know if the change\n",
    "in blood pressure follows a normal distribution.\n",
    "https://drive.google.com/file/d/1mCjtYHiX--mMUjicuaP2gH3k-SnFxt8Y/view?usp=share_"
   ]
  },
  {
   "cell_type": "code",
   "execution_count": null,
   "id": "17bea510-f4c6-4190-b0c6-f7b17ddc5976",
   "metadata": {},
   "outputs": [],
   "source": [
    "import pandas as pd\n",
    "from scipy.stats import shapiro\n",
    "\n",
    "# Read the data from the Excel file\n",
    "df = pd.read_excel('https://drive.google.com/file/d/1mCjtYHiX--mMUjicuaP2gH3k-SnFxt8Y/view?usp=share_')\n",
    "\n",
    "# Extract the column of blood pressure changes\n",
    "bp_changes = df['Blood Pressure After (mmHg)'] - df['Blood Pressure Before (mmHg)']\n",
    "\n",
    "# Perform Shapiro-Wilk test for normality\n",
    "statistic, p_value = shapiro(bp_changes)\n",
    "\n",
    "# Interpret the results\n",
    "alpha = 0.05\n",
    "if p_value > alpha:\n",
    "    print(\"The change in blood pressure follows a normal distribution.\")\n",
    "else:\n",
    "    print(\"The change in blood pressure does not follow a normal distribution.\")"
   ]
  },
  {
   "cell_type": "code",
   "execution_count": null,
   "id": "f7f84e31-da9d-499a-a162-8dd71f7efbeb",
   "metadata": {},
   "outputs": [],
   "source": [
    "Q-7. The equations of two lines of regression, obtained in a correlation analysis\n",
    "between variables X and Y are as follows:\n",
    "    and . 2X + 3 − 8 = 0 2Y + X − 5 = 0 The variance of X = 4 Find the\n",
    "a. Variance of Y\n",
    "b. Coefficient of determination of C and Y\n",
    "c. Standard error of estimate of X on Y and of Y on X."
   ]
  },
  {
   "cell_type": "code",
   "execution_count": null,
   "id": "1bf93561-bef8-4c06-9a55-5864cd41cfee",
   "metadata": {},
   "outputs": [],
   "source": [
    "Q-8. The anxiety levels of 10 participants were measured before and after a new therapy.\n",
    "The scores are not normally distributed. Use the Wilcoxon signed-rank test to test whether\n",
    "the therapy had a significant effect on anxiety levels. The data is given below: Participant\n",
    "Before therapy After therapy Difference"
   ]
  },
  {
   "cell_type": "markdown",
   "id": "c464a40d-e722-4499-b786-f129b1fe7966",
   "metadata": {},
   "source": [
    "Calculate the differences between the before and after therapy scores for each participant.\n",
    "Assign ranks to the absolute values of the differences. The ranks can be assigned by disregarding the signs (positive or negative) of the differences.\n",
    "\n",
    "Calculate the sum of the positive ranks (W+) and the sum of the negative ranks (W-) separately.\n",
    "\n",
    "Calculate the test statistic, W, which is the smaller of W+ and W-.\n",
    "Determine the critical value or p-value corresponding to the test statistic using the Wilcoxon signed-rank table or statistical software.\n",
    "\n",
    "Compare the test statistic with the critical value or p-value to determine if the therapy had a significant effect on anxiety levels."
   ]
  },
  {
   "cell_type": "code",
   "execution_count": null,
   "id": "18c9adab-6f29-4b7f-a22b-dbd154d71727",
   "metadata": {},
   "outputs": [],
   "source": [
    "Q-10. A factory produces light bulbs, and the probability of a bulb being defective is 0.05.\n",
    "The factory produces a large batch of 500 light bulbs.\n",
    "a. What is the probability that exactly 20 bulbs are defective?\n",
    "b. What is the probability that at least 10 bulbs are defective?\n",
    "c. What is the probability that at max 15 bulbs are defective?\n",
    "d. On average, how many defective bulbs would you expect in a batch of 500?"
   ]
  },
  {
   "cell_type": "code",
   "execution_count": null,
   "id": "729dc825-36cd-43cc-bcd0-e92e29651bd4",
   "metadata": {},
   "outputs": [],
   "source": [
    "a. The probability that exactly 20 bulbs are defective can be calculated as:\n",
    "\n",
    "P(X = 20) = C(500, 20) * (0.05)^20 * (1 - 0.05)^(500 - 20) ≈ 0.0296 (approximately)\n",
    "\n",
    "b. To find the probability that at least 10 bulbs are defective, we need to calculate the cumulative probability of having 0 to 9 defective bulbs and subtract it from 1:\n",
    "\n",
    "P(X >= 10) = 1 - (P(X = 0) + P(X = 1) + ... + P(X = 9)) ≈ 0.1823 (approximately)\n",
    "\n",
    "c. To find the probability that at most 15 bulbs are defective, we sum up the probabilities of having 0 to 15 defective bulbs:\n",
    "\n",
    "P(X <= 15) = P(X = 0) + P(X = 1) + ... + P(X = 15) ≈ 0.9887 (approximately)\n",
    "\n",
    "d. The expected number of defective bulbs in a batch of 500 can be calculated as:\n",
    "\n",
    "E(X) = 500 * 0.05 = 25 (exactly)\n",
    "\n",
    "Therefore, we would expect, on average, 25 defective bulbs in a batch of 500."
   ]
  },
  {
   "cell_type": "code",
   "execution_count": null,
   "id": "0fd8e9dd-7106-4c1a-8b88-fafba98bf6f8",
   "metadata": {},
   "outputs": [],
   "source": [
    "Q-11. Given the data of a feature contributing to different classes\n",
    "\n",
    "https://drive.google.com/file/d/1mCjtYHiX--mMUjicuaP2gH3k-SnFxt8Y/view?usp\n",
    "=share_\n",
    "\n",
    "a. Check whether the distribution of all the classes are the same or not.\n",
    "b. Check for the equality of variance/\n",
    "c. Which amount LDA and QDA would perform better on this data for\n",
    "classification and why.\n",
    "d. Check the equality of mean for between all the classes."
   ]
  },
  {
   "cell_type": "code",
   "execution_count": null,
   "id": "dc9f7c6d-6b42-4cdb-bd9c-9bdd9166ea0b",
   "metadata": {},
   "outputs": [],
   "source": [
    "a. Checking the distribution of all the classes:\n",
    "Let's denote the classes as C1, C2, C3, ..., Ck. To check if the distribution of the classes is the same or not, we can use statistical tests such as ANOVA or Kruskal-Wallis test. For example, using ANOVA, the null hypothesis can be expressed as:\n",
    "\n",
    "H0: The means of all classes are equal.\n",
    "H0: μ1 = μ2 = μ3 = ... = μk\n",
    "\n",
    "b. Checking the equality of variance:\n",
    "To check for the equality of variance among the classes, we can use tests such as Levene's test or Bartlett's test. For example, using Levene's test, the null hypothesis can be expressed as:\n",
    "\n",
    "H0: The variances of all classes are equal.\n",
    "H0: σ1^2 = σ2^2 = σ3^2 = ... = σk^2\n",
    "\n",
    "c. Determining the performance of LDA and QDA:\n",
    "LDA assumes a common covariance matrix among the classes and linear decision boundaries. QDA relaxes the assumption of a common covariance matrix and allows for quadratic decision boundaries. The performance of LDA and QDA can be evaluated based on their respective classification rules. Let's denote the classification rule for LDA as RLDA and for QDA as RQDA.\n",
    "\n",
    "d. Checking the equality of mean between all the classes:\n",
    "To check the equality of means between all classes, we can use statistical tests such as one-way ANOVA or Kruskal-Wallis test. For example, using one-way ANOVA, the null hypothesis can be expressed as:\n",
    "\n",
    "H0: The means of all classes are equal.\n",
    "H0: μ1 = μ2 = μ3 = ... = μk\n",
    "\n",
    "In these expressions, μi represents the mean of class Ci, and σi^2 represents the variance of class Ci."
   ]
  },
  {
   "cell_type": "code",
   "execution_count": null,
   "id": "97d7803d-d9f4-46db-bd31-7addecafc7c2",
   "metadata": {},
   "outputs": [],
   "source": [
    "Q-12. A pharmaceutical company develops a new drug and wants to compare its\n",
    "effectiveness against a standard drug for treating a particular condition. They conduct a\n",
    "study with two groups: Group A receives the new drug, and Group B receives the standard\n",
    "drug. The company measures the improvement in a specific symptom for both groups after\n",
    "a 4-week treatment period.\n",
    "a. The company collects data from 30 patients in each group and calculates the\n",
    "mean improvement score and the standard deviation of improvement for each\n",
    "group. The mean improvement score for Group A is 2.5 with a standard\n",
    "deviation of 0.8, while the mean improvement score for Group B is 2.2 with a\n",
    "standard deviation of 0.6. Conduct a t-test to determine if there is a significant\n",
    "difference in the mean improvement scores between the two groups. Use a\n",
    "significance level of 0.05.\n",
    "b. Based on the t-test results, state whether the null hypothesis should be\n",
    "rejected or not. Provide a conclusion in the context of the study."
   ]
  },
  {
   "cell_type": "code",
   "execution_count": null,
   "id": "fdc7a60b-d461-4808-9c01-3acc24e7076f",
   "metadata": {},
   "outputs": [],
   "source": [
    "To conduct a t-test and determine if there is a significant difference in the mean improvement scores between Group A and Group B, we can follow these steps:\n",
    "\n",
    "Step 1: Define the null and alternative hypotheses:\n",
    "\n",
    "Null Hypothesis (H0): There is no significant difference in the mean improvement scores between Group A and Group B.\n",
    "Alternative Hypothesis (Ha): There is a significant difference in the mean improvement scores between Group A and Group B.\n",
    "Step 2: Set the significance level (α):\n",
    "The significance level, also known as the alpha level, determines the threshold for rejecting the null hypothesis. In this case, the significance level is given as 0.05.\n",
    "\n",
    "Step 3: Conduct the t-test:\n",
    "We can use a two-sample independent t-test to compare the means of two groups. In Python, the scipy.stats module provides functions for conducting t-tests. Here's an example of how to perform the t-test:"
   ]
  },
  {
   "cell_type": "code",
   "execution_count": 1,
   "id": "8482ddf8-4b73-484e-b875-f23aac20ea3d",
   "metadata": {},
   "outputs": [
    {
     "name": "stdout",
     "output_type": "stream",
     "text": [
      "There is no significant difference in the mean improvement scores between Group A and Group B.\n",
      "Null hypothesis should not be rejected.\n"
     ]
    }
   ],
   "source": [
    "import scipy.stats as stats\n",
    "\n",
    "# Define the sample statistics for Group A and Group B\n",
    "mean_A = 2.5\n",
    "std_A = 0.8\n",
    "n_A = 30\n",
    "\n",
    "mean_B = 2.2\n",
    "std_B = 0.6\n",
    "n_B = 30\n",
    "\n",
    "# Conduct the t-test\n",
    "t_statistic, p_value = stats.ttest_ind_from_stats(mean_A, std_A, n_A, mean_B, std_B, n_B)\n",
    "\n",
    "# Compare the p-value with the significance level\n",
    "if p_value < 0.05:\n",
    "    print(\"There is a significant difference in the mean improvement scores between Group A and Group B.\")\n",
    "    print(\"Null hypothesis should be rejected.\")\n",
    "else:\n",
    "    print(\"There is no significant difference in the mean improvement scores between Group A and Group B.\")\n",
    "    print(\"Null hypothesis should not be rejected.\")"
   ]
  },
  {
   "cell_type": "code",
   "execution_count": null,
   "id": "e2549df3-f3d0-40bb-a50c-14313d0ad959",
   "metadata": {},
   "outputs": [],
   "source": [
    "Step 4: Interpret the results:\n",
    "\n",
    "If the p-value is less than the significance level (0.05 in this case), we reject the null hypothesis. This indicates that there is a significant difference in the mean improvement scores between Group A and Group B.\n",
    "If the p-value is greater than or equal to the significance level, we fail to reject the null hypothesis. This suggests that there is no significant difference in the mean improvement scores between Group A and Group B."
   ]
  }
 ],
 "metadata": {
  "kernelspec": {
   "display_name": "Python 3 (ipykernel)",
   "language": "python",
   "name": "python3"
  },
  "language_info": {
   "codemirror_mode": {
    "name": "ipython",
    "version": 3
   },
   "file_extension": ".py",
   "mimetype": "text/x-python",
   "name": "python",
   "nbconvert_exporter": "python",
   "pygments_lexer": "ipython3",
   "version": "3.10.6"
  }
 },
 "nbformat": 4,
 "nbformat_minor": 5
}
